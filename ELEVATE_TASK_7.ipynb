{
  "nbformat": 4,
  "nbformat_minor": 0,
  "metadata": {
    "colab": {
      "provenance": []
    },
    "kernelspec": {
      "name": "python3",
      "display_name": "Python 3"
    },
    "language_info": {
      "name": "python"
    }
  },
  "cells": [
    {
      "cell_type": "code",
      "execution_count": 4,
      "metadata": {
        "colab": {
          "base_uri": "https://localhost:8080/"
        },
        "id": "IAf_gDpbOfpd",
        "outputId": "32f73815-8f8d-4c92-ac5c-c2ebd5260f64"
      },
      "outputs": [
        {
          "output_type": "stream",
          "name": "stdout",
          "text": [
            "nature 1.jpg resized and saved successfully.\n",
            "natures.jpg resized and saved successfully.\n",
            "TASK 7 IMAGE.jpg resized and saved successfully.\n",
            "TASK iamge.jpg resized and saved successfully.\n",
            "All images have been resized!\n"
          ]
        }
      ],
      "source": [
        "import zipfile\n",
        "import os\n",
        "from PIL import Image\n",
        "\n",
        "source_zip = \"/content/TASK 7 IMAGES.zip\"\n",
        "source_folder_unzipped = \"/content/TASK 7 IMAGES\"  # Changed to a directory\n",
        "destination_folder = \"/content/TASK 7 RESIZED IMAGES\" # Changed to a directory\n",
        "\n",
        "# Create destination folder if it doesn't exist\n",
        "if not os.path.exists(destination_folder):\n",
        "    os.makedirs(destination_folder)\n",
        "\n",
        "# Create unzipped folder if it doesn't exist\n",
        "if not os.path.exists(source_folder_unzipped):\n",
        "    os.makedirs(source_folder_unzipped)\n",
        "\n",
        "with zipfile.ZipFile(source_zip, 'r') as zip_ref:\n",
        "    zip_ref.extractall(source_folder_unzipped)\n",
        "\n",
        "new_size = (800, 600)\n",
        "\n",
        "for filename in os.listdir(source_folder_unzipped):\n",
        "    if filename.lower().endswith((\".png\", \".jpg\", \".jpeg\")):\n",
        "        img_path = os.path.join(source_folder_unzipped, filename)\n",
        "\n",
        "        try:\n",
        "            with Image.open(img_path) as img:\n",
        "                resized_img = img.resize(new_size)\n",
        "                save_path = os.path.join(destination_folder, filename) # Save to destination folder\n",
        "                resized_img.save(save_path)\n",
        "            print(f\"{filename} resized and saved successfully.\")\n",
        "        except Exception as e:\n",
        "            print(f\"Error processing {filename}: {e}\")\n",
        "\n",
        "print(\"All images have been resized!\")"
      ]
    }
  ]
}